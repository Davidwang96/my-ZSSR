{
 "cells": [
  {
   "cell_type": "code",
   "execution_count": 1,
   "metadata": {},
   "outputs": [],
   "source": [
    "import torch\n",
    "from torchvision.transforms import transforms\n",
    "from data import ZSSRdataset, ZSSRsampler\n",
    "from utils import *\n",
    "from model import ZSSRnet\n",
    "from train import train, final_output\n",
    "import numpy as np\n",
    "from PIL import Image"
   ]
  },
  {
   "cell_type": "code",
   "execution_count": 2,
   "metadata": {},
   "outputs": [],
   "source": [
    "num_batches = 3000\n",
    "s_factor = 1.5\n",
    "device = \"cuda\"\n",
    "\n",
    "lres_img = Image.open('./images/01-lr.png')"
   ]
  },
  {
   "cell_type": "code",
   "execution_count": 3,
   "metadata": {},
   "outputs": [
    {
     "output_type": "execute_result",
     "data": {
      "text/plain": [
       "170"
      ]
     },
     "metadata": {},
     "execution_count": 3
    }
   ],
   "source": [
    "dataset = ZSSRdataset.from_image(lres_img, s_factor)\n",
    "data_sampler = ZSSRsampler(dataset)\n",
    "dataset.__len__()"
   ]
  },
  {
   "cell_type": "code",
   "execution_count": 4,
   "metadata": {},
   "outputs": [
    {
     "output_type": "stream",
     "name": "stderr",
     "text": [
      "Iteration: 300 Loss: 0.0015288980212062597, Learning Rate: 0.0001 :  10%|█         | 301/3000 [00:13<03:02, 14.77it/s]learning rate updated:  0.0001\n",
      "Iteration: 600 Loss: 0.002755948342382908, Learning Rate: 1e-05 :  20%|██        | 601/3000 [00:25<02:42, 14.81it/s]learning rate updated:  1e-05\n",
      "Iteration: 898 Loss: 0.0019719519186764956, Learning Rate: 1e-05 :  30%|██▉       | 899/3000 [00:37<01:28, 23.76it/s]learning rate updated:  1.0000000000000002e-06\n",
      "Training is over.\n",
      "Average Loss is 0.005070200789425479\n",
      "\n"
     ]
    }
   ],
   "source": [
    "model = ZSSRnet()\n",
    "model.to(device)\n",
    "\n",
    "train(lres_img,\n",
    "      model,\n",
    "      data_sampler,\n",
    "      num_batches,\n",
    "      s_factor,\n",
    "      device)\n",
    "\n",
    "torch.save(model, './model/crop64/zssr1.pt')"
   ]
  },
  {
   "cell_type": "code",
   "execution_count": 5,
   "metadata": {},
   "outputs": [],
   "source": [
    "hres_false = bicubic_resample(lres_img, s_factor)\n",
    "hres_false.save('./final_result/crop64/zssr_local_01_200_gradual_x1.5_interpolated.png')"
   ]
  },
  {
   "cell_type": "code",
   "execution_count": 6,
   "metadata": {},
   "outputs": [],
   "source": [
    "model = torch.load('./model/crop64/zssr1.pt')\n",
    "\n",
    "final_zssr, outputs = final_output(lres_img, model, bicubic_resample, s_factor, back_projection)\n",
    "\n",
    "final_zssr.save('./final_result/crop64/zssr_local_01_200_gradual_x1.5_net_out.png')"
   ]
  },
  {
   "cell_type": "code",
   "execution_count": 7,
   "metadata": {},
   "outputs": [
    {
     "output_type": "stream",
     "name": "stderr",
     "text": [
      "Iteration: 299 Loss: 0.005348830483853817, Learning Rate: 0.0001 :  10%|█         | 300/3000 [00:14<01:56, 23.26it/s]learning rate updated:  0.0001\n",
      "Iteration: 599 Loss: 0.0006533502019010484, Learning Rate: 1e-05 :  20%|██        | 600/3000 [00:28<01:43, 23.15it/s]learning rate updated:  1e-05\n",
      "Iteration: 1138 Loss: 0.006439405493438244, Learning Rate: 1e-05 :  38%|███▊      | 1139/3000 [00:53<01:28, 21.12it/s]learning rate updated:  1.0000000000000002e-06\n",
      "Training is over.\n",
      "Average Loss is 0.003164476459865116\n",
      "\n"
     ]
    }
   ],
   "source": [
    "model = torch.load('./model/crop64/zssr1.pt')\n",
    "num_batches = 3000\n",
    "s_factor = 2 / 1.5\n",
    "device = \"cuda\"\n",
    "\n",
    "dataset2 = ZSSRdataset.from_image(final_zssr, s_factor)\n",
    "data_sampler2 = ZSSRsampler(dataset2)\n",
    "\n",
    "train(final_zssr,\n",
    "      model,\n",
    "      data_sampler2,\n",
    "      num_batches,\n",
    "      s_factor,\n",
    "      device)\n",
    "torch.save(model, './model/crop64/zssr1.pt')"
   ]
  },
  {
   "cell_type": "code",
   "execution_count": 8,
   "metadata": {},
   "outputs": [],
   "source": [
    "hres_false = bicubic_resample(final_zssr, s_factor)\n",
    "hres_false.save('./final_result/crop64/zssr_local_01_200_gradual_x2_interpolated.png')\n",
    "\n",
    "model = torch.load('./model/crop64/zssr1.pt')\n",
    "\n",
    "final_zssr2, outputs2 = final_output(final_zssr, model, bicubic_resample, s_factor, back_projection)\n",
    "\n",
    "final_zssr2.save('./final_result/crop64/zssr_local_01_200_gradual_x2_net_out.png')"
   ]
  },
  {
   "cell_type": "code",
   "execution_count": 9,
   "metadata": {},
   "outputs": [
    {
     "output_type": "execute_result",
     "data": {
      "text/plain": [
       "(422, 422)"
      ]
     },
     "metadata": {},
     "execution_count": 9
    }
   ],
   "source": [
    "direct_zssr = Image.open('zssr_local_01_200_x2_net_out.png')\n",
    "direct_zssr.size"
   ]
  },
  {
   "cell_type": "code",
   "execution_count": 10,
   "metadata": {},
   "outputs": [
    {
     "output_type": "execute_result",
     "data": {
      "text/plain": [
       "(421, 421)"
      ]
     },
     "metadata": {},
     "execution_count": 10
    }
   ],
   "source": [
    "final_zssr2.size"
   ]
  },
  {
   "cell_type": "code",
   "execution_count": 11,
   "metadata": {},
   "outputs": [],
   "source": [
    "direct_zssr = direct_zssr.resize([final_zssr2.size[0], final_zssr2.size[1]], resample=Image.BICUBIC)"
   ]
  },
  {
   "cell_type": "code",
   "execution_count": 12,
   "metadata": {},
   "outputs": [],
   "source": [
    "direct_zssr_tensor = transforms.ToTensor()(direct_zssr)\n",
    "final_zssr2_tensor = transforms.ToTensor()(final_zssr2)\n",
    "\n",
    "residual = torch.abs(direct_zssr_tensor - final_zssr2_tensor)\n",
    "residual_img = transforms.ToPILImage()(residual)\n",
    "residual_img.save('./final_result/crop64/zssr_local_01_200_gradual_x2_residual.png')"
   ]
  },
  {
   "cell_type": "code",
   "execution_count": null,
   "metadata": {},
   "outputs": [],
   "source": []
  }
 ],
 "metadata": {
  "kernelspec": {
   "display_name": "Python 3",
   "language": "python",
   "name": "python3"
  },
  "language_info": {
   "codemirror_mode": {
    "name": "ipython",
    "version": 3
   },
   "file_extension": ".py",
   "mimetype": "text/x-python",
   "name": "python",
   "nbconvert_exporter": "python",
   "pygments_lexer": "ipython3",
   "version": "3.8.5-final"
  }
 },
 "nbformat": 4,
 "nbformat_minor": 4
}